{
 "cells": [
  {
   "cell_type": "code",
   "execution_count": 19,
   "metadata": {},
   "outputs": [
    {
     "name": "stdout",
     "output_type": "stream",
     "text": [
      "<div class=\"tombstone-container\">\n",
      " <p class=\"period-name\">\n",
      "  Overnight\n",
      "  <br/>\n",
      "  <br/>\n",
      " </p>\n",
      " <p>\n",
      "  <img alt=\"Overnight: Patchy fog.  Otherwise, cloudy, with a low around 60. Calm wind. \" class=\"forecast-icon\" src=\"newimages/medium/nfg.png\" title=\"Overnight: Patchy fog.  Otherwise, cloudy, with a low around 60. Calm wind. \"/>\n",
      " </p>\n",
      " <p class=\"short-desc\">\n",
      "  Patchy Fog\n",
      " </p>\n",
      " <p class=\"temp temp-low\">\n",
      "  Low: 60 °F\n",
      " </p>\n",
      "</div>\n"
     ]
    }
   ],
   "source": [
    "import requests\n",
    "import bs4\n",
    "from bs4 import BeautifulSoup \n",
    "\n",
    "## Downloading weather data\n",
    "\n",
    "page = requests.get(\"https://forecast.weather.gov/MapClick.php?lat=34.03707000000003&lon=-118.26264499999996#.YI534y9h02I\")\n",
    "soup = BeautifulSoup(page.content,\"html.parser\")\n",
    "seven_day = soup.find(id =\"seven-day-forecast\")                  \n",
    "forecast_class = seven_day.find_all(class_= \"tombstone-container\") \n",
    "tonight = forecast_class[0]\n",
    "print(tonight.prettify())"
   ]
  },
  {
   "cell_type": "code",
   "execution_count": 20,
   "metadata": {},
   "outputs": [
    {
     "name": "stdout",
     "output_type": "stream",
     "text": [
      "Overnight\n",
      "Patchy Fog\n",
      "Low: 60 °F\n"
     ]
    }
   ],
   "source": [
    "## Extracting information from the page\n",
    "\n",
    "period = tonight.find(class_=\"period-name\").get_text()\n",
    "short_desc = tonight.find(class_=\"short-desc\").get_text()\n",
    "temp = tonight.find(class_=\"temp\").get_text()\n",
    "print(period)\n",
    "print(short_desc)\n",
    "print(temp)"
   ]
  },
  {
   "cell_type": "code",
   "execution_count": 21,
   "metadata": {},
   "outputs": [
    {
     "name": "stdout",
     "output_type": "stream",
     "text": [
      "Overnight: Patchy fog.  Otherwise, cloudy, with a low around 60. Calm wind. \n"
     ]
    }
   ],
   "source": [
    "img = tonight.find(\"img\")\n",
    "tonight_title = img['title']\n",
    "print(tonight_title)"
   ]
  },
  {
   "cell_type": "code",
   "execution_count": 22,
   "metadata": {},
   "outputs": [
    {
     "data": {
      "text/plain": [
       "['Overnight',\n",
       " 'Sunday',\n",
       " 'SundayNight',\n",
       " 'Monday',\n",
       " 'MondayNight',\n",
       " 'Tuesday',\n",
       " 'TuesdayNight',\n",
       " 'Wednesday',\n",
       " 'WednesdayNight']"
      ]
     },
     "execution_count": 22,
     "metadata": {},
     "output_type": "execute_result"
    }
   ],
   "source": [
    "## Extracting all the information from the page\n",
    "all_period_names = seven_day.select(\".tombstone-container .period-name\")\n",
    "all_period_name =[i.get_text() for i in all_period_names]\n",
    "all_period_name"
   ]
  },
  {
   "cell_type": "code",
   "execution_count": 23,
   "metadata": {},
   "outputs": [
    {
     "data": {
      "text/plain": [
       "['Patchy Fog',\n",
       " 'Patchy Fogthen Sunny',\n",
       " 'Patchy Fog',\n",
       " 'Patchy Fogthen Sunny',\n",
       " 'Patchy Fog',\n",
       " 'Patchy Fogthen Sunny',\n",
       " 'Mostly Clear',\n",
       " 'Sunny',\n",
       " 'Patchy Fog']"
      ]
     },
     "execution_count": 23,
     "metadata": {},
     "output_type": "execute_result"
    }
   ],
   "source": [
    "all_period_descs = seven_day.select(\".tombstone-container .short-desc\")\n",
    "all_period_desc = [i.get_text() for i in all_period_descs]\n",
    "all_period_desc"
   ]
  },
  {
   "cell_type": "code",
   "execution_count": 24,
   "metadata": {},
   "outputs": [
    {
     "data": {
      "text/plain": [
       "['Low: 60 °F',\n",
       " 'High: 71 °F',\n",
       " 'Low: 59 °F',\n",
       " 'High: 78 °F',\n",
       " 'Low: 59 °F',\n",
       " 'High: 82 °F',\n",
       " 'Low: 61 °F',\n",
       " 'High: 85 °F',\n",
       " 'Low: 60 °F']"
      ]
     },
     "execution_count": 24,
     "metadata": {},
     "output_type": "execute_result"
    }
   ],
   "source": [
    "all_period_temps = seven_day.select(\".forecast-tombstone .temp\")\n",
    "all_period_temp =[i.get_text() for i in all_period_temps]\n",
    "all_period_temp"
   ]
  },
  {
   "cell_type": "code",
   "execution_count": 25,
   "metadata": {
    "scrolled": true
   },
   "outputs": [
    {
     "data": {
      "text/plain": [
       "['Overnight: Patchy fog.  Otherwise, cloudy, with a low around 60. Calm wind. ',\n",
       " 'Sunday: Patchy fog before 11am.  Otherwise, cloudy through mid morning, then gradual clearing, with a high near 71. Light and variable wind becoming southwest 5 to 10 mph in the morning. ',\n",
       " 'Sunday Night: Patchy fog after 11pm.  Otherwise, increasing clouds, with a low around 59. Southwest wind 5 to 10 mph becoming light and variable. ',\n",
       " 'Monday: Patchy fog before 11am.  Otherwise, cloudy through mid morning, then gradual clearing, with a high near 78. Light and variable wind becoming west southwest 5 to 10 mph in the afternoon. ',\n",
       " 'Monday Night: Patchy fog after 11pm.  Otherwise, mostly cloudy, with a low around 59. West southwest wind 5 to 10 mph becoming light and variable  in the evening. ',\n",
       " 'Tuesday: Patchy fog before 11am.  Otherwise, mostly sunny, with a high near 82.',\n",
       " 'Tuesday Night: Mostly clear, with a low around 61.',\n",
       " 'Wednesday: Sunny, with a high near 85.',\n",
       " 'Wednesday Night: Patchy fog after 11pm.  Otherwise, mostly cloudy, with a low around 60.']"
      ]
     },
     "execution_count": 25,
     "metadata": {},
     "output_type": "execute_result"
    }
   ],
   "source": [
    "all_period_titles = seven_day.select(\".forecast-tombstone img\")\n",
    "all_period_title = [i[\"title\"] for i in all_period_titles]\n",
    "all_period_title"
   ]
  },
  {
   "cell_type": "code",
   "execution_count": 26,
   "metadata": {},
   "outputs": [
    {
     "data": {
      "text/html": [
       "<div>\n",
       "<style scoped>\n",
       "    .dataframe tbody tr th:only-of-type {\n",
       "        vertical-align: middle;\n",
       "    }\n",
       "\n",
       "    .dataframe tbody tr th {\n",
       "        vertical-align: top;\n",
       "    }\n",
       "\n",
       "    .dataframe thead th {\n",
       "        text-align: right;\n",
       "    }\n",
       "</style>\n",
       "<table border=\"1\" class=\"dataframe\">\n",
       "  <thead>\n",
       "    <tr style=\"text-align: right;\">\n",
       "      <th></th>\n",
       "      <th>period</th>\n",
       "      <th>short_desc</th>\n",
       "      <th>temp</th>\n",
       "      <th>desc</th>\n",
       "    </tr>\n",
       "  </thead>\n",
       "  <tbody>\n",
       "    <tr>\n",
       "      <th>0</th>\n",
       "      <td>Overnight</td>\n",
       "      <td>Patchy Fog</td>\n",
       "      <td>Low: 60 °F</td>\n",
       "      <td>Patchy Fog</td>\n",
       "    </tr>\n",
       "    <tr>\n",
       "      <th>1</th>\n",
       "      <td>Sunday</td>\n",
       "      <td>Patchy Fogthen Sunny</td>\n",
       "      <td>High: 71 °F</td>\n",
       "      <td>Patchy Fogthen Sunny</td>\n",
       "    </tr>\n",
       "    <tr>\n",
       "      <th>2</th>\n",
       "      <td>SundayNight</td>\n",
       "      <td>Patchy Fog</td>\n",
       "      <td>Low: 59 °F</td>\n",
       "      <td>Patchy Fog</td>\n",
       "    </tr>\n",
       "    <tr>\n",
       "      <th>3</th>\n",
       "      <td>Monday</td>\n",
       "      <td>Patchy Fogthen Sunny</td>\n",
       "      <td>High: 78 °F</td>\n",
       "      <td>Patchy Fogthen Sunny</td>\n",
       "    </tr>\n",
       "    <tr>\n",
       "      <th>4</th>\n",
       "      <td>MondayNight</td>\n",
       "      <td>Patchy Fog</td>\n",
       "      <td>Low: 59 °F</td>\n",
       "      <td>Patchy Fog</td>\n",
       "    </tr>\n",
       "    <tr>\n",
       "      <th>5</th>\n",
       "      <td>Tuesday</td>\n",
       "      <td>Patchy Fogthen Sunny</td>\n",
       "      <td>High: 82 °F</td>\n",
       "      <td>Patchy Fogthen Sunny</td>\n",
       "    </tr>\n",
       "    <tr>\n",
       "      <th>6</th>\n",
       "      <td>TuesdayNight</td>\n",
       "      <td>Mostly Clear</td>\n",
       "      <td>Low: 61 °F</td>\n",
       "      <td>Mostly Clear</td>\n",
       "    </tr>\n",
       "    <tr>\n",
       "      <th>7</th>\n",
       "      <td>Wednesday</td>\n",
       "      <td>Sunny</td>\n",
       "      <td>High: 85 °F</td>\n",
       "      <td>Sunny</td>\n",
       "    </tr>\n",
       "    <tr>\n",
       "      <th>8</th>\n",
       "      <td>WednesdayNight</td>\n",
       "      <td>Patchy Fog</td>\n",
       "      <td>Low: 60 °F</td>\n",
       "      <td>Patchy Fog</td>\n",
       "    </tr>\n",
       "  </tbody>\n",
       "</table>\n",
       "</div>"
      ],
      "text/plain": [
       "           period            short_desc         temp                  desc\n",
       "0       Overnight            Patchy Fog   Low: 60 °F            Patchy Fog\n",
       "1          Sunday  Patchy Fogthen Sunny  High: 71 °F  Patchy Fogthen Sunny\n",
       "2     SundayNight            Patchy Fog   Low: 59 °F            Patchy Fog\n",
       "3          Monday  Patchy Fogthen Sunny  High: 78 °F  Patchy Fogthen Sunny\n",
       "4     MondayNight            Patchy Fog   Low: 59 °F            Patchy Fog\n",
       "5         Tuesday  Patchy Fogthen Sunny  High: 82 °F  Patchy Fogthen Sunny\n",
       "6    TuesdayNight          Mostly Clear   Low: 61 °F          Mostly Clear\n",
       "7       Wednesday                 Sunny  High: 85 °F                 Sunny\n",
       "8  WednesdayNight            Patchy Fog   Low: 60 °F            Patchy Fog"
      ]
     },
     "execution_count": 26,
     "metadata": {},
     "output_type": "execute_result"
    }
   ],
   "source": [
    "## Combining our data into a Pandas Dataframe\n",
    "import pandas\n",
    "weather = pandas.DataFrame({\n",
    "    \"period\":all_period_name,\n",
    "    \"short_desc\":all_period_desc,\n",
    "    \"temp\":all_period_temp,\n",
    "    \"desc\":all_period_desc\n",
    "})\n",
    "\n",
    "weather"
   ]
  },
  {
   "cell_type": "code",
   "execution_count": 27,
   "metadata": {},
   "outputs": [
    {
     "data": {
      "text/plain": [
       "0    60 \n",
       "1    71 \n",
       "2    59 \n",
       "3    78 \n",
       "4    59 \n",
       "5    82 \n",
       "6    61 \n",
       "7    85 \n",
       "8    60 \n",
       "Name: temp, dtype: object"
      ]
     },
     "execution_count": 27,
     "metadata": {},
     "output_type": "execute_result"
    }
   ],
   "source": [
    "temp_numbers = weather[\"temp\"].str[-5:-2]\n",
    "weather[\"temp_numbers\"] = temp_numbers.astype('int')\n",
    "temp_numbers"
   ]
  },
  {
   "cell_type": "code",
   "execution_count": 28,
   "metadata": {},
   "outputs": [
    {
     "data": {
      "text/plain": [
       "68.33333333333333"
      ]
     },
     "execution_count": 28,
     "metadata": {},
     "output_type": "execute_result"
    }
   ],
   "source": [
    "weather[\"temp_numbers\"].mean()"
   ]
  },
  {
   "cell_type": "code",
   "execution_count": 29,
   "metadata": {},
   "outputs": [
    {
     "data": {
      "text/plain": [
       "0     True\n",
       "1    False\n",
       "2     True\n",
       "3    False\n",
       "4     True\n",
       "5    False\n",
       "6     True\n",
       "7    False\n",
       "8     True\n",
       "Name: temp, dtype: bool"
      ]
     },
     "execution_count": 29,
     "metadata": {},
     "output_type": "execute_result"
    }
   ],
   "source": [
    "is_night = weather[\"temp\"].str.contains(\"Low\")\n",
    "weather[\"is_night\"]= is_night\n",
    "is_night"
   ]
  },
  {
   "cell_type": "code",
   "execution_count": 30,
   "metadata": {
    "scrolled": true
   },
   "outputs": [
    {
     "data": {
      "text/html": [
       "<div>\n",
       "<style scoped>\n",
       "    .dataframe tbody tr th:only-of-type {\n",
       "        vertical-align: middle;\n",
       "    }\n",
       "\n",
       "    .dataframe tbody tr th {\n",
       "        vertical-align: top;\n",
       "    }\n",
       "\n",
       "    .dataframe thead th {\n",
       "        text-align: right;\n",
       "    }\n",
       "</style>\n",
       "<table border=\"1\" class=\"dataframe\">\n",
       "  <thead>\n",
       "    <tr style=\"text-align: right;\">\n",
       "      <th></th>\n",
       "      <th>period</th>\n",
       "      <th>short_desc</th>\n",
       "      <th>temp</th>\n",
       "      <th>desc</th>\n",
       "      <th>temp_numbers</th>\n",
       "      <th>is_night</th>\n",
       "    </tr>\n",
       "  </thead>\n",
       "  <tbody>\n",
       "    <tr>\n",
       "      <th>0</th>\n",
       "      <td>Overnight</td>\n",
       "      <td>Patchy Fog</td>\n",
       "      <td>Low: 60 °F</td>\n",
       "      <td>Patchy Fog</td>\n",
       "      <td>60</td>\n",
       "      <td>True</td>\n",
       "    </tr>\n",
       "    <tr>\n",
       "      <th>2</th>\n",
       "      <td>SundayNight</td>\n",
       "      <td>Patchy Fog</td>\n",
       "      <td>Low: 59 °F</td>\n",
       "      <td>Patchy Fog</td>\n",
       "      <td>59</td>\n",
       "      <td>True</td>\n",
       "    </tr>\n",
       "    <tr>\n",
       "      <th>4</th>\n",
       "      <td>MondayNight</td>\n",
       "      <td>Patchy Fog</td>\n",
       "      <td>Low: 59 °F</td>\n",
       "      <td>Patchy Fog</td>\n",
       "      <td>59</td>\n",
       "      <td>True</td>\n",
       "    </tr>\n",
       "    <tr>\n",
       "      <th>6</th>\n",
       "      <td>TuesdayNight</td>\n",
       "      <td>Mostly Clear</td>\n",
       "      <td>Low: 61 °F</td>\n",
       "      <td>Mostly Clear</td>\n",
       "      <td>61</td>\n",
       "      <td>True</td>\n",
       "    </tr>\n",
       "    <tr>\n",
       "      <th>8</th>\n",
       "      <td>WednesdayNight</td>\n",
       "      <td>Patchy Fog</td>\n",
       "      <td>Low: 60 °F</td>\n",
       "      <td>Patchy Fog</td>\n",
       "      <td>60</td>\n",
       "      <td>True</td>\n",
       "    </tr>\n",
       "  </tbody>\n",
       "</table>\n",
       "</div>"
      ],
      "text/plain": [
       "           period    short_desc        temp          desc  temp_numbers  \\\n",
       "0       Overnight    Patchy Fog  Low: 60 °F    Patchy Fog            60   \n",
       "2     SundayNight    Patchy Fog  Low: 59 °F    Patchy Fog            59   \n",
       "4     MondayNight    Patchy Fog  Low: 59 °F    Patchy Fog            59   \n",
       "6    TuesdayNight  Mostly Clear  Low: 61 °F  Mostly Clear            61   \n",
       "8  WednesdayNight    Patchy Fog  Low: 60 °F    Patchy Fog            60   \n",
       "\n",
       "   is_night  \n",
       "0      True  \n",
       "2      True  \n",
       "4      True  \n",
       "6      True  \n",
       "8      True  "
      ]
     },
     "execution_count": 30,
     "metadata": {},
     "output_type": "execute_result"
    }
   ],
   "source": [
    "weather[is_night]"
   ]
  }
 ],
 "metadata": {
  "kernelspec": {
   "display_name": "Python 3",
   "language": "python",
   "name": "python3"
  },
  "language_info": {
   "codemirror_mode": {
    "name": "ipython",
    "version": 3
   },
   "file_extension": ".py",
   "mimetype": "text/x-python",
   "name": "python",
   "nbconvert_exporter": "python",
   "pygments_lexer": "ipython3",
   "version": "3.8.5"
  }
 },
 "nbformat": 4,
 "nbformat_minor": 4
}
